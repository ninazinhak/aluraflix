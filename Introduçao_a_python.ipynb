{
  "nbformat": 4,
  "nbformat_minor": 0,
  "metadata": {
    "colab": {
      "provenance": [],
      "authorship_tag": "ABX9TyO3pyMsi5tErDhq0+V6liyC",
      "include_colab_link": true
    },
    "kernelspec": {
      "name": "python3",
      "display_name": "Python 3"
    },
    "language_info": {
      "name": "python"
    }
  },
  "cells": [
    {
      "cell_type": "markdown",
      "metadata": {
        "id": "view-in-github",
        "colab_type": "text"
      },
      "source": [
        "<a href=\"https://colab.research.google.com/github/ninazinhak/aluraflix/blob/main/Introdu%C3%A7ao_a_python.ipynb\" target=\"_parent\"><img src=\"https://colab.research.google.com/assets/colab-badge.svg\" alt=\"Open In Colab\"/></a>"
      ]
    },
    {
      "cell_type": "markdown",
      "source": [
        "AULA 1"
      ],
      "metadata": {
        "id": "40iXrrWUDE3f"
      }
    },
    {
      "cell_type": "code",
      "execution_count": null,
      "metadata": {
        "colab": {
          "base_uri": "https://localhost:8080/"
        },
        "id": "BZC4x84jVKsH",
        "outputId": "81a083cf-c93a-43d9-e393-eeb8adb1e04b"
      },
      "outputs": [
        {
          "output_type": "stream",
          "name": "stdout",
          "text": [
            "I Competiçao de Programaçao da Start\n"
          ]
        }
      ],
      "source": [
        "print(\"I Competiçao de Programaçao da Start\")"
      ]
    },
    {
      "cell_type": "code",
      "source": [
        " ano = \"II\"\n",
        "\n",
        "print(ano,\"Competição programação da Start\")"
      ],
      "metadata": {
        "colab": {
          "base_uri": "https://localhost:8080/"
        },
        "id": "OZXh9TG17-xI",
        "outputId": "c5402cb7-beed-4ea8-a07e-30c08ff94b5a"
      },
      "execution_count": 3,
      "outputs": [
        {
          "output_type": "stream",
          "name": "stdout",
          "text": [
            "II Competição programação da Start\n"
          ]
        }
      ]
    },
    {
      "cell_type": "code",
      "source": [
        " print(f\"(ano)competição da start\")"
      ],
      "metadata": {
        "id": "uF4bPGwa_m9p",
        "colab": {
          "base_uri": "https://localhost:8080/"
        },
        "outputId": "58773ea7-181e-49a1-a781-a6e495335da8"
      },
      "execution_count": 4,
      "outputs": [
        {
          "output_type": "stream",
          "name": "stdout",
          "text": [
            "(ano)competição da start\n"
          ]
        }
      ]
    },
    {
      "cell_type": "markdown",
      "source": [
        "AULA 2"
      ],
      "metadata": {
        "id": "HxzXc58CDg8n"
      }
    },
    {
      "cell_type": "markdown",
      "source": [
        "contexto:\n",
        "Uma escola está promovendo uma campanha de incentivo à leitura em que cada estudante recebe pontos ao concluir livros. Esses pontos podem ser trocados por diferentes prêmios da escola, e as categorias de livros têm valores de pontos diferentes.\n",
        "livro_ficcao = 8\n",
        "livro_n_ficcao = 8\n",
        "livro_infantil = 6\n",
        "problema:\n",
        "Rodrigo leu um livro de cada categoria e agora quer saber quantos pontos acumulou com sua leitura.\n",
        "Nosso objetivo é criar um programa em pyton que:\n"
      ],
      "metadata": {
        "id": "4D3MC_jJEJcT"
      }
    }
  ]
}