{
  "nbformat": 4,
  "nbformat_minor": 0,
  "metadata": {
    "colab": {
      "provenance": [],
      "authorship_tag": "ABX9TyM7ALcw+A5OQ0SrKIESEJRo",
      "include_colab_link": true
    },
    "kernelspec": {
      "name": "python3",
      "display_name": "Python 3"
    },
    "language_info": {
      "name": "python"
    }
  },
  "cells": [
    {
      "cell_type": "markdown",
      "metadata": {
        "id": "view-in-github",
        "colab_type": "text"
      },
      "source": [
        "<a href=\"https://colab.research.google.com/github/ninazinhak/aluraflix/blob/main/Introdu%C3%A7ao_a_python.ipynb\" target=\"_parent\"><img src=\"https://colab.research.google.com/assets/colab-badge.svg\" alt=\"Open In Colab\"/></a>"
      ]
    },
    {
      "cell_type": "code",
      "execution_count": null,
      "metadata": {
        "colab": {
          "base_uri": "https://localhost:8080/"
        },
        "id": "BZC4x84jVKsH",
        "outputId": "81a083cf-c93a-43d9-e393-eeb8adb1e04b"
      },
      "outputs": [
        {
          "output_type": "stream",
          "name": "stdout",
          "text": [
            "I Competiçao de Programaçao da Start\n"
          ]
        }
      ],
      "source": [
        "print(\"I Competiçao de Programaçao da Start\")"
      ]
    },
    {
      "cell_type": "code",
      "source": [
        " ano = \"II\"\n",
        "\n",
        "print(ano,\"Competição de Programação da Start\")"
      ],
      "metadata": {
        "colab": {
          "base_uri": "https://localhost:8080/"
        },
        "id": "OZXh9TG17-xI",
        "outputId": "4faf388b-2a5f-477a-db54-cd55abbeea5a"
      },
      "execution_count": 6,
      "outputs": [
        {
          "output_type": "stream",
          "name": "stdout",
          "text": [
            "II Competição de Programação da Start\n"
          ]
        }
      ]
    },
    {
      "cell_type": "code",
      "source": [],
      "metadata": {
        "id": "uF4bPGwa_m9p"
      },
      "execution_count": null,
      "outputs": []
    }
  ]
}